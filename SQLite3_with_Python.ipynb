{
  "metadata": {
    "kernelspec": {
      "name": "python",
      "display_name": "Python (Pyodide)",
      "language": "python"
    },
    "language_info": {
      "codemirror_mode": {
        "name": "python",
        "version": 3
      },
      "file_extension": ".py",
      "mimetype": "text/x-python",
      "name": "python",
      "nbconvert_exporter": "python",
      "pygments_lexer": "ipython3",
      "version": "3.8"
    }
  },
  "nbformat_minor": 4,
  "nbformat": 4,
  "cells": [
    {
      "cell_type": "code",
      "source": "import sqlite3\n#Create Connection Object\n\nconn = sqlite3.connect('INSTRUCTOR.db')\n#Create Cursor Object\n\ncursor_obj = conn.cursor()\n\n# Task 2: Create a Table\n\n#Step 1: First Drop the Table\n\ncursor_obj.execute('''DROP TABLE IF EXISTS INSTRUCTOR''')\n#Step 2 : Create actual table\n\ntable = '''create TABLE if NOT EXISTS INSTRUCTOR( ID INTEGER PRIMARY KEY NOT NULL, FNAME VARCHAR(20), \nLNAME VARCHAR(20), CITY VARCHAR(20), CCODE CHAR(2));'''\n\ncursor_obj.execute(table)\n \nprint(\"Table is Ready\")\n\n#TASK 3 : Insert DATA\n# Insert one at a time\n\ncursor_obj.execute('''Insert into INSTRUCTOR values(1, 'Rav', 'Ahuja', 'Toronto', 'CA')''')\n\n# Inserting multiple lines at once\n\ncursor_obj.execute(''' Insert into INSTRUCTOR values(2, 'Raul', 'Chong', 'Markham', 'CA'), (3, 'Hima', 'Vasudevan', 'Chicago', 'US')''')\n\n\n#Task 4 : retrieving Data\n\nstatement = ''' SELECT * FROM INSTRUCTOR'''\ncursor_obj.execute(statement)\n\nprint ('all the data')\noutput_all  = cursor_obj.fetchall()\nfor row_data in output_all:\n    print (row_data)\n\n\n#Fetching few rows\n\nstatement =  '''SELECT * FROM INSTRUCTOR'''\ncursor_obj.execute(statement)\n\n#Use Fetchmany(row no) to get a select number of rows\nprint('Fetch select number of rows')\noutput_many =  cursor_obj.fetchmany(2)\nfor row_data in output_many:\n    print (row_data)\n\n#Fetching one or more select columns\n\nstatement = ''' SELECT FNAME, LNAME from INSTRUCTOR'''\ncursor_obj.execute(statement)\n\nprint ('Getting first and last name')\noutput_names = cursor_obj.fetchall()\nfor names in output_names:\n    print(names)\n\nquery_update = ''' update INSTRUCTOR set CITY = 'Moosetown' WHERE FNAME = \"Rav\"'''\ncursor_obj.execute(query_update)\n\nstatement = ''' Select * From INSTRUCTOR '''\ncursor_obj.execute(statement)\n\nFetch_new = cursor_obj.fetchmany(2)\nfor data in Fetch_new:\n    print (data)\n\n\n#Task 5 : Retrieving into a Pandas Dataframe\n\n#Install Pandas\n\n%pip install pandas\nimport pandas as pd\n\ndf = pd.read_sql_query(''' SELECT * FROM INSTRUCTOR;''', conn)\ndf\n\nprint(df.LNAME[0])\n\nprint(df.shape)\n\n\n#Close the connection\n\nconn.close()\n",
      "metadata": {
        "trusted": true
      },
      "outputs": [
        {
          "name": "stdout",
          "text": "Table is Ready\nall the data\n(1, 'Rav', 'Ahuja', 'Toronto', 'CA')\n(2, 'Raul', 'Chong', 'Markham', 'CA')\n(3, 'Hima', 'Vasudevan', 'Chicago', 'US')\nFetch select number of rows\n(1, 'Rav', 'Ahuja', 'Toronto', 'CA')\n(2, 'Raul', 'Chong', 'Markham', 'CA')\nGetting first and last name\n('Rav', 'Ahuja')\n('Raul', 'Chong')\n('Hima', 'Vasudevan')\n(1, 'Rav', 'Ahuja', 'Moosetown', 'CA')\n(2, 'Raul', 'Chong', 'Markham', 'CA')\n",
          "output_type": "stream"
        },
        {
          "name": "stderr",
          "text": "<ipython-input-1-82df53c0f0c0>:81: DeprecationWarning: \nPyarrow will become a required dependency of pandas in the next major release of pandas (pandas 3.0),\n(to allow more performant data types, such as the Arrow string type, and better interoperability with other libraries)\nbut was not found to be installed on your system.\nIf this would cause problems for you,\nplease provide us feedback at https://github.com/pandas-dev/pandas/issues/54466\n        \n  import pandas as pd\n",
          "output_type": "stream"
        },
        {
          "name": "stdout",
          "text": "Ahuja\n(3, 5)\n",
          "output_type": "stream"
        }
      ],
      "execution_count": 1
    },
    {
      "cell_type": "code",
      "source": "",
      "metadata": {
        "trusted": true
      },
      "outputs": [],
      "execution_count": null
    }
  ]
}